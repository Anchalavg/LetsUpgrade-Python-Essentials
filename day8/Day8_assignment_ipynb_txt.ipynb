{
  "nbformat": 4,
  "nbformat_minor": 0,
  "metadata": {
    "colab": {
      "name": "Day8_assignment.ipynb.txt",
      "provenance": [],
      "collapsed_sections": []
    },
    "kernelspec": {
      "name": "python3",
      "display_name": "Python 3"
    }
  },
  "cells": [
    {
      "cell_type": "code",
      "metadata": {
        "id": "Xl3ETZEm4JnE",
        "colab_type": "code",
        "colab": {}
      },
      "source": [
        "def getInput(calculate_arg_fun):\n",
        "    def wrap_function():\n",
        "        n = int (input(\"provide the range of series: \"))\n",
        "        calculate_arg_fun (n)\n",
        "    return wrap_function"
      ],
      "execution_count": null,
      "outputs": []
    },
    {
      "cell_type": "code",
      "metadata": {
        "id": "-WjUK5MG5M_i",
        "colab_type": "code",
        "colab": {}
      },
      "source": [
        "  @getInput\n",
        "  def fibonacci_series(p):\n",
        "      print(\"The series is: \")\n",
        "      m = 0;\n",
        "      a = 0\n",
        "      b = 1\n",
        "      p = p-2\n",
        "      print(0)\n",
        "      print(1)\n",
        "      while(m<p):\n",
        "           c = a+b\n",
        "           print (c)\n",
        "           a=b\n",
        "           b=c\n",
        "           m=m+1"
      ],
      "execution_count": null,
      "outputs": []
    },
    {
      "cell_type": "code",
      "metadata": {
        "id": "sjLvs9bs9wt0",
        "colab_type": "code",
        "colab": {}
      },
      "source": [
        "s = getInput(10)"
      ],
      "execution_count": null,
      "outputs": []
    },
    {
      "cell_type": "code",
      "metadata": {
        "id": "wp_ieGzP-QPr",
        "colab_type": "code",
        "colab": {
          "base_uri": "https://localhost:8080/",
          "height": 223
        },
        "outputId": "bcf41f18-8455-48b6-ebe3-a049703f7d03"
      },
      "source": [
        "q g fibonacci_series()"
      ],
      "execution_count": null,
      "outputs": [
        {
          "output_type": "stream",
          "text": [
            "provide the range of series: 10\n",
            "The series is: \n",
            "0\n",
            "1\n",
            "1\n",
            "2\n",
            "3\n",
            "5\n",
            "8\n",
            "13\n",
            "21\n",
            "34\n"
          ],
          "name": "stdout"
        }
      ]
    },
    {
      "cell_type": "markdown",
      "metadata": {
        "id": "HPGo7giecCEz",
        "colab_type": "text"
      },
      "source": [
        "# Error handling"
      ]
    },
    {
      "cell_type": "code",
      "metadata": {
        "id": "xWBY4GUn68Q8",
        "colab_type": "code",
        "colab": {}
      },
      "source": [
        "file=open(\"letsupgrade.txt\",\"w\")\n",
        "file.write(\"Hlo, How are you\")\n",
        "file.close()"
      ],
      "execution_count": null,
      "outputs": []
    },
    {
      "cell_type": "code",
      "metadata": {
        "id": "GLDl8kSwcOxE",
        "colab_type": "code",
        "colab": {
          "base_uri": "https://localhost:8080/",
          "height": 51
        },
        "outputId": "608cf8f9-1539-41f1-875b-bd8cb60d2f7c"
      },
      "source": [
        "try:\n",
        "  file = open(\"letsupgrade.txt\",\"r\")\n",
        "  file.write(\"Hlo , How are you\")\n",
        "  file.close()\n",
        "  print(\"Done\")\n",
        "except Exception as e:\n",
        "  print(e)\n",
        "finally:\n",
        "  print(\"its going to be okay\")\n",
        "        "
      ],
      "execution_count": null,
      "outputs": [
        {
          "output_type": "stream",
          "text": [
            "not writable\n",
            "its going to be okay\n"
          ],
          "name": "stdout"
        }
      ]
    }
  ]
}