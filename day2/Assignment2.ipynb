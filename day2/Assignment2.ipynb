{
  "nbformat": 4,
  "nbformat_minor": 0,
  "metadata": {
    "colab": {
      "name": "Assignment2 ",
      "provenance": [],
      "collapsed_sections": []
    },
    "kernelspec": {
      "name": "python3",
      "display_name": "Python 3"
    }
  },
  "cells": [
    {
      "cell_type": "code",
      "metadata": {
        "id": "2ZVdyamiIUy0",
        "colab_type": "code",
        "colab": {
          "base_uri": "https://localhost:8080/",
          "height": 53
        },
        "outputId": "abd15e8a-74b2-45bf-d983-5e4377b69494"
      },
      "source": [
        "# you all are pilots,you have to land a plane, the altitude required for landing a plane is 1000ft, if it is less than 1000ft tell the pilot to land the plane, or if it is more than 1000ft but less than 5000ft then ask the pilot to come down to 1000ft, else if it is greater than 5000 then ask the pilot to go around and try later.\n",
        " \n",
        "alt = int(input(\"provide the altitude: \"))\n",
        "if(alt<1000):\n",
        "  print(\"Plane is safe to land\")\n",
        "elif(alt<5000):\n",
        "  print(\"Bring it down to 1000\")\n",
        "elif(alt>5000):\n",
        "  print(\"Turn around the plane\")"
      ],
      "execution_count": null,
      "outputs": [
        {
          "output_type": "stream",
          "text": [
            "provide the altitude: 255\n",
            "Plane is safe to land\n"
          ],
          "name": "stdout"
        }
      ]
    },
    {
      "cell_type": "code",
      "metadata": {
        "id": "56l0nrpcRUR5",
        "colab_type": "code",
        "colab": {
          "base_uri": "https://localhost:8080/",
          "height": 72
        },
        "outputId": "66967843-1c5e-4179-db86-473a63b24720"
      },
      "source": [
        "# for loop to print all the prime numbers between 1-200.\n",
        "lower = int (input(\"enter the lower interval: \"))\n",
        "upper = int (input(\"enter the upper interval: \"))\n",
        "for num in range(lower,upper+1):\n",
        "  if num>1:\n",
        "    for i in range(2,num):\n",
        "      if (num%i)==0:\n",
        "        break\n",
        "    else:\n",
        "        print(num ,end=\" \")"
      ],
      "execution_count": null,
      "outputs": [
        {
          "output_type": "stream",
          "text": [
            "enter the lower interval: 0\n",
            "enter the upper interval: 200\n",
            "2 3 5 7 11 13 17 19 23 29 31 37 41 43 47 53 59 61 67 71 73 79 83 89 97 101 103 107 109 113 127 131 137 139 149 151 157 163 167 173 179 181 191 193 197 199 "
          ],
          "name": "stdout"
        }
      ]
    },
    {
      "cell_type": "code",
      "metadata": {
        "id": "bZCXufkHSx5x",
        "colab_type": "code",
        "colab": {}
      },
      "source": [
        ""
      ],
      "execution_count": null,
      "outputs": []
    }
  ]
}