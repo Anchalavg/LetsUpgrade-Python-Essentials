{
  "nbformat": 4,
  "nbformat_minor": 0,
  "metadata": {
    "colab": {
      "name": "Day6_assignment.ipynb.txt",
      "provenance": [],
      "collapsed_sections": []
    },
    "kernelspec": {
      "name": "python3",
      "display_name": "Python 3"
    }
  },
  "cells": [
    {
      "cell_type": "code",
      "metadata": {
        "id": "2Jt2InGXvs9V",
        "colab_type": "code",
        "colab": {}
      },
      "source": [
        " # Bank account\n",
        "class bankaccount():\n",
        "      def __init__(self,ownername,balance):\n",
        "          self.ownername = ownername\n",
        "          self.balance = balance\n",
        " \n",
        "      def getdetails(self):\n",
        "          print(\"name\",self.ownername)\n",
        "          print(\"balance\",self.balance)\n",
        " \n",
        "      def deposit(self,amount_paid):\n",
        "          self.amount_paid = pay(amount_paid)\n",
        "          print(self.amount_paid)\n",
        "          self.balance = self.balance + self.amount_paid\n",
        "  \n",
        "      def withdraw(self,amount_withdraw):\n",
        "          self.amount_withdraw = draw(amount_withdraw)\n",
        "          if self.balance < amount_withdraw:\n",
        "             print(\"Insufficient balance\")\n",
        "          else:\n",
        "             print(self.amount_withdraw)\n",
        "          self.balance = self.balance - self.amount_withdraw\n",
        "      \n",
        "def pay(amount_paid):\n",
        "    return amount_paid\n",
        " \n",
        " \n",
        "def draw(amount_drawn):\n",
        "    return amount_drawn"
      ],
      "execution_count": null,
      "outputs": []
    },
    {
      "cell_type": "code",
      "metadata": {
        "id": "gSEV8u2wrnkH",
        "colab_type": "code",
        "colab": {}
      },
      "source": [
        "n = bankaccount (\"anchal\",5000)"
      ],
      "execution_count": null,
      "outputs": []
    },
    {
      "cell_type": "code",
      "metadata": {
        "id": "_L-7h6b4wI-a",
        "colab_type": "code",
        "colab": {
          "base_uri": "https://localhost:8080/",
          "height": 51
        },
        "outputId": "5657f445-2bc0-4f10-d961-7b67bbf954f2"
      },
      "source": [
        "n.getdetails()"
      ],
      "execution_count": null,
      "outputs": [
        {
          "output_type": "stream",
          "text": [
            "name anchal\n",
            "balance 5000\n"
          ],
          "name": "stdout"
        }
      ]
    },
    {
      "cell_type": "code",
      "metadata": {
        "id": "Dy1kXDniw6Tc",
        "colab_type": "code",
        "colab": {
          "base_uri": "https://localhost:8080/",
          "height": 34
        },
        "outputId": "b295de64-804f-48cf-fe88-32fc7d422f64"
      },
      "source": [
        "n.deposit(500)"
      ],
      "execution_count": null,
      "outputs": [
        {
          "output_type": "stream",
          "text": [
            "500\n"
          ],
          "name": "stdout"
        }
      ]
    },
    {
      "cell_type": "code",
      "metadata": {
        "id": "Hb6fswnAZHJx",
        "colab_type": "code",
        "colab": {
          "base_uri": "https://localhost:8080/",
          "height": 34
        },
        "outputId": "71c9e39e-5064-4907-eb9e-5e96b749e1a0"
      },
      "source": [
        "n.withdraw(300)"
      ],
      "execution_count": null,
      "outputs": [
        {
          "output_type": "stream",
          "text": [
            "300\n"
          ],
          "name": "stdout"
        }
      ]
    },
    {
      "cell_type": "code",
      "metadata": {
        "id": "JG4D_7GCZeTN",
        "colab_type": "code",
        "colab": {
          "base_uri": "https://localhost:8080/",
          "height": 34
        },
        "outputId": "a3413b07-4d0c-4850-c0d2-7ade6360ceb9"
      },
      "source": [
        "n.deposit(3000)"
      ],
      "execution_count": null,
      "outputs": [
        {
          "output_type": "stream",
          "text": [
            "3000\n"
          ],
          "name": "stdout"
        }
      ]
    },
    {
      "cell_type": "code",
      "metadata": {
        "id": "EtvdfCLLZm3O",
        "colab_type": "code",
        "colab": {
          "base_uri": "https://localhost:8080/",
          "height": 34
        },
        "outputId": "c38bdbb9-ec23-478e-c9e4-265259ac9700"
      },
      "source": [
        "n.withdraw(8500)"
      ],
      "execution_count": null,
      "outputs": [
        {
          "output_type": "stream",
          "text": [
            "Insufficient balance\n"
          ],
          "name": "stdout"
        }
      ]
    },
    {
      "cell_type": "markdown",
      "metadata": {
        "id": "wEBx3Hfzeu43",
        "colab_type": "text"
      },
      "source": [
        "# Cone"
      ]
    },
    {
      "cell_type": "code",
      "metadata": {
        "id": "HfoNkTWWezbm",
        "colab_type": "code",
        "colab": {}
      },
      "source": [
        " class cone():\n",
        "      def __init__(self,r,h):\n",
        "          self.r = r\n",
        "          self.h = h\n",
        " \n",
        "      def getdetails(self):\n",
        "          print(\"Radius\",self.r)\n",
        "          print(\"Height\",self.h)\n",
        "      \n",
        " \n",
        "      def volume(self,r,h): \n",
        "          self.p = p(r,h)\n",
        "          print(self.p)\n",
        "          \n",
        "      \n",
        " \n",
        "      def surfacearea(self,r,h):\n",
        "          self.give =give(r,h)\n",
        "          print(self.give)\n",
        " \n",
        "def p(r,h):\n",
        "    v= 3.14*r*r*(h/3)    \n",
        "    return v   \n",
        " \n",
        "          \n",
        "import math\n",
        "def give(r,h):\n",
        "    a = 3.14*r*(r+(math.sqrt(r*r+h*h)))\n",
        "    return a"
      ],
      "execution_count": null,
      "outputs": []
    },
    {
      "cell_type": "code",
      "metadata": {
        "id": "op0AAO-SfB5z",
        "colab_type": "code",
        "colab": {}
      },
      "source": [
        "m = cone(6,8)"
      ],
      "execution_count": null,
      "outputs": []
    },
    {
      "cell_type": "code",
      "metadata": {
        "id": "AHH_jXIIfLfa",
        "colab_type": "code",
        "colab": {
          "base_uri": "https://localhost:8080/",
          "height": 51
        },
        "outputId": "1b95e954-8c72-45a9-862b-be14a3b738ff"
      },
      "source": [
        " m.getdetails()"
      ],
      "execution_count": null,
      "outputs": [
        {
          "output_type": "stream",
          "text": [
            "Radius 6\n",
            "Height 8\n"
          ],
          "name": "stdout"
        }
      ]
    },
    {
      "cell_type": "code",
      "metadata": {
        "id": "HcVTXHdlfYea",
        "colab_type": "code",
        "colab": {
          "base_uri": "https://localhost:8080/",
          "height": 34
        },
        "outputId": "edc87b03-a161-43c4-ed44-a4a7ce7b9571"
      },
      "source": [
        " m.volume(6,8)"
      ],
      "execution_count": null,
      "outputs": [
        {
          "output_type": "stream",
          "text": [
            "301.43999999999994\n"
          ],
          "name": "stdout"
        }
      ]
    },
    {
      "cell_type": "code",
      "metadata": {
        "id": "qQzVcajPfaP8",
        "colab_type": "code",
        "colab": {
          "base_uri": "https://localhost:8080/",
          "height": 34
        },
        "outputId": "40a92ec6-1226-451d-c09d-f2d38e68b668"
      },
      "source": [
        " m.surfacearea(6,8)"
      ],
      "execution_count": null,
      "outputs": [
        {
          "output_type": "stream",
          "text": [
            "301.44\n"
          ],
          "name": "stdout"
        }
      ]
    }
  ]
}